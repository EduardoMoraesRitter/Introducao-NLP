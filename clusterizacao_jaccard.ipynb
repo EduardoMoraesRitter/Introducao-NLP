{
  "nbformat": 4,
  "nbformat_minor": 0,
  "metadata": {
    "colab": {
      "name": "clusterizacao_jaccard",
      "provenance": [],
      "authorship_tag": "ABX9TyMmTr02Iy7wQ8/jkFJvjkJT",
      "include_colab_link": true
    },
    "kernelspec": {
      "name": "python3",
      "display_name": "Python 3"
    }
  },
  "cells": [
    {
      "cell_type": "markdown",
      "metadata": {
        "id": "view-in-github",
        "colab_type": "text"
      },
      "source": [
        "<a href=\"https://colab.research.google.com/github/EduardoMoraesRitter/Introducao-NLP/blob/master/clusterizacao_jaccard.ipynb\" target=\"_parent\"><img src=\"https://colab.research.google.com/assets/colab-badge.svg\" alt=\"Open In Colab\"/></a>"
      ]
    },
    {
      "cell_type": "markdown",
      "metadata": {
        "id": "GoXb79wWO7vH",
        "colab_type": "text"
      },
      "source": [
        "O coeficiente de Jaccard mede a similaridade entre conjuntos de amostras finitas.\n",
        "\n",
        "https://en.wikipedia.org/wiki/Jaccard_index\n",
        "\n",
        "\n"
      ]
    },
    {
      "cell_type": "code",
      "metadata": {
        "id": "n88D6GRxJF-H",
        "colab_type": "code",
        "colab": {
          "base_uri": "https://localhost:8080/",
          "height": 50
        },
        "outputId": "d7941cfb-4916-42a2-b797-d4f00bc21fc9"
      },
      "source": [
        "import nltk\n",
        "nltk.download('stopwords')\n",
        "\n",
        "from nltk.corpus import stopwords\n",
        "import numpy as np\n",
        "\n",
        "from operator import itemgetter\n",
        "from sklearn.feature_extraction.text import TfidfVectorizer"
      ],
      "execution_count": 1,
      "outputs": [
        {
          "output_type": "stream",
          "text": [
            "[nltk_data] Downloading package stopwords to /root/nltk_data...\n",
            "[nltk_data]   Unzipping corpora/stopwords.zip.\n"
          ],
          "name": "stdout"
        }
      ]
    },
    {
      "cell_type": "code",
      "metadata": {
        "id": "4rea_7uLOEzR",
        "colab_type": "code",
        "colab": {}
      },
      "source": [
        "def compare_texto_jaccard(texto, texto_compare):\n",
        "    words_texto = texto.lower().split()\n",
        "    words_compare = texto_compare.lower().split()\n",
        "    intersection = set(words_texto).intersection(set(words_compare))\n",
        "    intersection_size = len(intersection)\n",
        "    calc = float(intersection_size) / (len(words_texto) + len(words_compare)\n",
        "                                       - intersection_size)\n",
        "\n",
        "    if calc >= 0.20:  # Define o quao semelhante é um texto com o outro\n",
        "        return True  # se texto igual a texto_compare\n",
        "    return False"
      ],
      "execution_count": 0,
      "outputs": []
    },
    {
      "cell_type": "code",
      "metadata": {
        "id": "AwcwfETHP9cE",
        "colab_type": "code",
        "colab": {
          "base_uri": "https://localhost:8080/",
          "height": 50
        },
        "outputId": "1c646527-af19-4102-caf3-75b6def04785"
      },
      "source": [
        "textos = ['o cruzeiro jogou muito bem', 'parabéns pela vitória cruzeiro',\n",
        "          'ainda acho o cruzeiro ruim', 'o cruzeiro não jogou bem',\n",
        "          'cruzeiro jogou contra o sport',\n",
        "          'primeira rodada o cruzeiro enfrentou o sport',\n",
        "          'bela vitória do cruzeiro', 'mais uma vitória do cruzeiro']\n",
        "\n",
        "tf_vectorizer = TfidfVectorizer(\n",
        "            stop_words=stopwords.words('portuguese'), analyzer='word',\n",
        "            ngram_range=(1, 1), lowercase=True, use_idf=True)\n",
        "\n",
        "matrix = tf_vectorizer.fit_transform(textos)\n",
        "matrix"
      ],
      "execution_count": 8,
      "outputs": [
        {
          "output_type": "execute_result",
          "data": {
            "text/plain": [
              "<8x14 sparse matrix of type '<class 'numpy.float64'>'\n",
              "\twith 27 stored elements in Compressed Sparse Row format>"
            ]
          },
          "metadata": {
            "tags": []
          },
          "execution_count": 8
        }
      ]
    },
    {
      "cell_type": "code",
      "metadata": {
        "id": "4nBe3ATHP_Jh",
        "colab_type": "code",
        "colab": {
          "base_uri": "https://localhost:8080/",
          "height": 151
        },
        "outputId": "0b00ba6f-74d7-4690-d07a-d1573f539a99"
      },
      "source": [
        "feature_array = np.array(tf_vectorizer.get_feature_names())\n",
        "tfidf_sorting = np.argsort(matrix.toarray()).flatten()[::-1]\n",
        "feature_words = feature_array[tfidf_sorting][:10]\n",
        "featured_textos= []\n",
        "for texto in textos:\n",
        "    relevance = 0\n",
        "    for word in feature_words:\n",
        "        if word in texto:\n",
        "            relevance += 1\n",
        "    if relevance > 3:\n",
        "        featured_textos.append((texto, relevance))\n",
        "\n",
        "    print(f'{texto} -> {relevance}')"
      ],
      "execution_count": 4,
      "outputs": [
        {
          "output_type": "stream",
          "text": [
            "o cruzeiro jogou muito bem -> 2\n",
            "parabéns pela vitória cruzeiro -> 3\n",
            "ainda acho o cruzeiro ruim -> 2\n",
            "o cruzeiro não jogou bem -> 2\n",
            "cruzeiro jogou contra o sport -> 4\n",
            "primeira rodada o cruzeiro enfrentou o sport -> 5\n",
            "bela vitória do cruzeiro -> 2\n",
            "mais uma vitória do cruzeiro -> 2\n"
          ],
          "name": "stdout"
        }
      ]
    },
    {
      "cell_type": "code",
      "metadata": {
        "id": "tVnvzAoRQKk-",
        "colab_type": "code",
        "colab": {
          "base_uri": "https://localhost:8080/",
          "height": 67
        },
        "outputId": "483e125b-09a2-42be-dc1a-1c5f5200f871"
      },
      "source": [
        "# eliminate duplicated textos\n",
        "non_duplicated = []\n",
        "for t in sorted(featured_textos, key=itemgetter(1), reverse=True):\n",
        "    if not non_duplicated:\n",
        "        non_duplicated.append(t[0])\n",
        "    else:\n",
        "        for nd in non_duplicated:\n",
        "            if not compare_texto_jaccard(nd, t[0]):\n",
        "                non_duplicated.append(t[0])\n",
        "\n",
        "\n",
        "print(80 * '-')\n",
        "print('textos mais relevantes:')\n",
        "print(non_duplicated)"
      ],
      "execution_count": 5,
      "outputs": [
        {
          "output_type": "stream",
          "text": [
            "--------------------------------------------------------------------------------\n",
            "textos mais relevantes:\n",
            "['primeira rodada o cruzeiro enfrentou o sport']\n"
          ],
          "name": "stdout"
        }
      ]
    },
    {
      "cell_type": "code",
      "metadata": {
        "id": "BhTLYwXOQLXC",
        "colab_type": "code",
        "colab": {}
      },
      "source": [
        ""
      ],
      "execution_count": 0,
      "outputs": []
    }
  ]
}