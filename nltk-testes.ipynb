{
  "nbformat": 4,
  "nbformat_minor": 0,
  "metadata": {
    "colab": {
      "name": "Colab's New Code Editor",
      "provenance": [],
      "collapsed_sections": [],
      "include_colab_link": true
    },
    "kernelspec": {
      "display_name": "Python 3",
      "name": "python3"
    }
  },
  "cells": [
    {
      "cell_type": "markdown",
      "metadata": {
        "id": "view-in-github",
        "colab_type": "text"
      },
      "source": [
        "<a href=\"https://colab.research.google.com/github/EduardoMoraesRitter/Introducao-NLP/blob/master/nltk-testes.ipynb\" target=\"_parent\"><img src=\"https://colab.research.google.com/assets/colab-badge.svg\" alt=\"Open In Colab\"/></a>"
      ]
    },
    {
      "cell_type": "code",
      "metadata": {
        "id": "FbrKx0EgzVcn",
        "colab_type": "code",
        "colab": {
          "base_uri": "https://localhost:8080/",
          "height": 51
        },
        "outputId": "cffd9ea3-a0a6-445b-c218-e5720899fc60"
      },
      "source": [
        "import nltk\n",
        "nltk.download('stopwords')\n",
        "\n",
        "from operator import itemgetter\n",
        "from sklearn.feature_extraction.text import TfidfVectorizer\n",
        "from nltk.corpus import stopwords\n",
        "import numpy as np"
      ],
      "execution_count": 6,
      "outputs": [
        {
          "output_type": "stream",
          "text": [
            "[nltk_data] Downloading package stopwords to /root/nltk_data...\n",
            "[nltk_data]   Unzipping corpora/stopwords.zip.\n"
          ],
          "name": "stdout"
        }
      ]
    },
    {
      "cell_type": "code",
      "metadata": {
        "id": "yUH-usZDKqAc",
        "colab_type": "code",
        "colab": {}
      },
      "source": [
        "def compare_texto_jaccard(texto, texto_compare):\n",
        "    words_texto = texto.lower().split()\n",
        "    words_compare = texto_compare.lower().split()\n",
        "    intersection = set(words_texto).intersection(set(words_compare))\n",
        "    intersection_size = len(intersection)\n",
        "    calc = float(intersection_size) / (len(words_texto) + len(words_compare)\n",
        "                                       - intersection_size)\n",
        "\n",
        "    if calc >= 0.20:  # Define o quao semelhante é um texto com o outro\n",
        "        return True  # se texto igual a texto_compare\n",
        "    return False"
      ],
      "execution_count": 0,
      "outputs": []
    },
    {
      "cell_type": "code",
      "metadata": {
        "id": "5k6j28f1KupY",
        "colab_type": "code",
        "colab": {}
      },
      "source": [
        "textos = ['o cruzeiro jogou muito bem', 'parabéns pela vitória cruzeiro',\n",
        "          'ainda acho o cruzeiro ruim', 'o cruzeiro não jogou bem',\n",
        "          'cruzeiro jogou contra o sport',\n",
        "          'primeira rodada o cruzeiro enfrentou o sport',\n",
        "          'bela vitória do cruzeiro', 'mais uma vitória do cruzeiro']\n",
        "\n",
        "tf_vectorizer = TfidfVectorizer(\n",
        "            stop_words=stopwords.words('portuguese'), analyzer='word',\n",
        "            ngram_range=(1, 1), lowercase=True, use_idf=True)\n",
        "matrix = tf_vectorizer.fit_transform(textos)"
      ],
      "execution_count": 0,
      "outputs": []
    },
    {
      "cell_type": "code",
      "metadata": {
        "id": "t0IDTa3nKxQY",
        "colab_type": "code",
        "colab": {
          "base_uri": "https://localhost:8080/",
          "height": 204
        },
        "outputId": "b8a2a0f2-ff31-4c71-b358-852044c1bf1b"
      },
      "source": [
        "feature_array = np.array(tf_vectorizer.get_feature_names())\n",
        "tfidf_sorting = np.argsort(matrix.toarray()).flatten()[::-1]\n",
        "feature_words = feature_array[tfidf_sorting][:10]\n",
        "featured_textos= []\n",
        "for texto in textos:\n",
        "    relevance = 0\n",
        "    for word in feature_words:\n",
        "        if word in texto:\n",
        "            relevance += 1\n",
        "    if relevance > 3:\n",
        "        featured_textos.append((texto, relevance))\n",
        "\n",
        "    print(f'{texto} -> {relevance}')\n",
        "\n",
        "# eliminate duplicated textos\n",
        "non_duplicated = []\n",
        "for t in sorted(featured_textos, key=itemgetter(1), reverse=True):\n",
        "    if not non_duplicated:\n",
        "        non_duplicated.append(t[0])\n",
        "    else:\n",
        "        for nd in non_duplicated:\n",
        "            if not compare_texto_jaccard(nd, t[0]):\n",
        "                non_duplicated.append(t[0])\n",
        "\n",
        "\n",
        "print(80 * '-')\n",
        "print('textos mais relevantes:')\n",
        "print(non_duplicated)"
      ],
      "execution_count": 12,
      "outputs": [
        {
          "output_type": "stream",
          "text": [
            "o cruzeiro jogou muito bem -> 2\n",
            "parabéns pela vitória cruzeiro -> 3\n",
            "ainda acho o cruzeiro ruim -> 2\n",
            "o cruzeiro não jogou bem -> 2\n",
            "cruzeiro jogou contra o sport -> 4\n",
            "primeira rodada o cruzeiro enfrentou o sport -> 5\n",
            "bela vitória do cruzeiro -> 2\n",
            "mais uma vitória do cruzeiro -> 2\n",
            "--------------------------------------------------------------------------------\n",
            "textos mais relevantes:\n",
            "['primeira rodada o cruzeiro enfrentou o sport']\n"
          ],
          "name": "stdout"
        }
      ]
    },
    {
      "cell_type": "code",
      "metadata": {
        "id": "0ZEqz8DnK7pr",
        "colab_type": "code",
        "colab": {}
      },
      "source": [
        ""
      ],
      "execution_count": 0,
      "outputs": []
    }
  ]
}