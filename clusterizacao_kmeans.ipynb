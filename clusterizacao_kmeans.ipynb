{
  "nbformat": 4,
  "nbformat_minor": 0,
  "metadata": {
    "colab": {
      "name": "clusterizacao_kmeans",
      "provenance": [],
      "authorship_tag": "ABX9TyNI64QmKllbiFRtrlybiiW5",
      "include_colab_link": true
    },
    "kernelspec": {
      "name": "python3",
      "display_name": "Python 3"
    }
  },
  "cells": [
    {
      "cell_type": "markdown",
      "metadata": {
        "id": "view-in-github",
        "colab_type": "text"
      },
      "source": [
        "<a href=\"https://colab.research.google.com/github/EduardoMoraesRitter/Introducao-NLP-clusterizacao/blob/master/clusterizacao_kmeans.ipynb\" target=\"_parent\"><img src=\"https://colab.research.google.com/assets/colab-badge.svg\" alt=\"Open In Colab\"/></a>"
      ]
    },
    {
      "cell_type": "code",
      "metadata": {
        "id": "-JQd1g_Tn0S7",
        "colab_type": "code",
        "colab": {
          "base_uri": "https://localhost:8080/",
          "height": 50
        },
        "outputId": "4bea35af-eaa7-4cd8-f70d-693c76a7d87a"
      },
      "source": [
        "import nltk\n",
        "nltk.download('stopwords')\n",
        "from nltk.corpus import stopwords\n",
        "\n",
        "from sklearn.feature_extraction.text import TfidfVectorizer\n",
        "from sklearn.cluster import KMeans\n",
        "from sklearn.metrics import adjusted_rand_score"
      ],
      "execution_count": 2,
      "outputs": [
        {
          "output_type": "stream",
          "text": [
            "[nltk_data] Downloading package stopwords to /root/nltk_data...\n",
            "[nltk_data]   Unzipping corpora/stopwords.zip.\n"
          ],
          "name": "stdout"
        }
      ]
    },
    {
      "cell_type": "code",
      "metadata": {
        "id": "oXrzCr5DRb4k",
        "colab_type": "code",
        "colab": {
          "base_uri": "https://localhost:8080/",
          "height": 34
        },
        "outputId": "162d61bf-ab9d-47d2-8656-2efedfbba622"
      },
      "source": [
        "documents = ['o cruzeiro jogou muito bem', \n",
        "            'parabéns! pela vitória cruzeiro',\n",
        "            'ainda acho o cruzeiro ruim', \n",
        "            'o cruzeiro não jogou bem',\n",
        "            'cruzeiro jogou contra o sport',\n",
        "            'primeira rodada o cruzeiro enfrentou o sport',\n",
        "            'bela vitória do cruzeiro', \n",
        "            'mais uma vitória do cruzeiro']\n",
        "\n",
        "vectorizer = TfidfVectorizer(stop_words=stopwords.words('portuguese'))\n",
        "#vectorizer = TfidfVectorizer(stop_words=stopwords.words('portuguese'), analyzer='word', ngram_range=(1, 1), lowercase=True, use_idf=True)\n",
        "\n",
        "X = vectorizer.fit_transform(documents)\n",
        "X\n",
        "print(vectorizer.get_feature_names())"
      ],
      "execution_count": 7,
      "outputs": [
        {
          "output_type": "stream",
          "text": [
            "['acho', 'ainda', 'bela', 'bem', 'contra', 'cruzeiro', 'enfrentou', 'jogou', 'parabéns', 'primeira', 'rodada', 'ruim', 'sport', 'vitória']\n"
          ],
          "name": "stdout"
        }
      ]
    },
    {
      "cell_type": "code",
      "metadata": {
        "id": "rxvTr65poG1o",
        "colab_type": "code",
        "colab": {
          "base_uri": "https://localhost:8080/",
          "height": 67
        },
        "outputId": "d85434da-e8f5-4e45-dabc-39cee39af61c"
      },
      "source": [
        "true_k = 3\n",
        "model = KMeans(n_clusters=true_k, init='k-means++', max_iter=100, n_init=1)\n",
        "model.fit(X)"
      ],
      "execution_count": 4,
      "outputs": [
        {
          "output_type": "execute_result",
          "data": {
            "text/plain": [
              "KMeans(algorithm='auto', copy_x=True, init='k-means++', max_iter=100,\n",
              "       n_clusters=3, n_init=1, n_jobs=None, precompute_distances='auto',\n",
              "       random_state=None, tol=0.0001, verbose=0)"
            ]
          },
          "metadata": {
            "tags": []
          },
          "execution_count": 4
        }
      ]
    },
    {
      "cell_type": "code",
      "metadata": {
        "id": "QokEY3USn8G5",
        "colab_type": "code",
        "colab": {
          "base_uri": "https://localhost:8080/",
          "height": 638
        },
        "outputId": "9ceaf19c-a09e-4eb5-dd61-2773fada5ada"
      },
      "source": [
        "print(\"Top terms per cluster:\")\n",
        "order_centroids = model.cluster_centers_.argsort()[:, ::-1]\n",
        "terms = vectorizer.get_feature_names()\n",
        "for i in range(true_k):\n",
        "    print(\"\\n Cluster %d:\" % i),\n",
        "    for ind in order_centroids[i, :10]:\n",
        "        print('   %s' % terms[ind]),\n",
        "    print"
      ],
      "execution_count": 5,
      "outputs": [
        {
          "output_type": "stream",
          "text": [
            "Top terms per cluster:\n",
            "\n",
            " Cluster 0:\n",
            "   vitória\n",
            "   cruzeiro\n",
            "   parabéns\n",
            "   bela\n",
            "   sport\n",
            "   ruim\n",
            "   rodada\n",
            "   primeira\n",
            "   jogou\n",
            "   enfrentou\n",
            "\n",
            " Cluster 1:\n",
            "   jogou\n",
            "   bem\n",
            "   cruzeiro\n",
            "   contra\n",
            "   ruim\n",
            "   ainda\n",
            "   acho\n",
            "   sport\n",
            "   vitória\n",
            "   rodada\n",
            "\n",
            " Cluster 2:\n",
            "   rodada\n",
            "   primeira\n",
            "   enfrentou\n",
            "   sport\n",
            "   cruzeiro\n",
            "   vitória\n",
            "   ruim\n",
            "   parabéns\n",
            "   jogou\n",
            "   contra\n"
          ],
          "name": "stdout"
        }
      ]
    },
    {
      "cell_type": "code",
      "metadata": {
        "id": "ZGNWoHPXn40_",
        "colab_type": "code",
        "colab": {
          "base_uri": "https://localhost:8080/",
          "height": 34
        },
        "outputId": "052db203-4889-4a79-ee7c-72f6359607c0"
      },
      "source": [
        "Y = vectorizer.transform([\"parabéns! pela vitória cruzeiro\"])\n",
        "prediction = model.predict(Y)\n",
        "print(prediction)"
      ],
      "execution_count": 6,
      "outputs": [
        {
          "output_type": "stream",
          "text": [
            "[0]\n"
          ],
          "name": "stdout"
        }
      ]
    },
    {
      "cell_type": "code",
      "metadata": {
        "id": "IYWj3rdLpdOk",
        "colab_type": "code",
        "colab": {}
      },
      "source": [
        ""
      ],
      "execution_count": 0,
      "outputs": []
    }
  ]
}